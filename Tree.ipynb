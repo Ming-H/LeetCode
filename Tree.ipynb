{
 "cells": [
  {
   "cell_type": "markdown",
   "metadata": {},
   "source": [
    "# 70. Climbing Stairs"
   ]
  },
  {
   "cell_type": "code",
   "execution_count": 1,
   "metadata": {},
   "outputs": [],
   "source": [
    "class Solution:\n",
    "    def climbStairs(self, n: int) -> int:\n",
    "        \"\"\"\n",
    "        用额外的空间保存状态\n",
    "        \"\"\"\n",
    "        if n == 0:\n",
    "            return 1\n",
    "        memo = [-1] * (n + 1)\n",
    "        memo[0] = 1\n",
    "        memo[1] = 1\n",
    "        for i in range(2, n + 1):\n",
    "            memo[i] = memo[i - 1] + memo[i - 2]\n",
    "        return memo[n] "
   ]
  },
  {
   "cell_type": "code",
   "execution_count": 2,
   "metadata": {},
   "outputs": [
    {
     "name": "stdout",
     "output_type": "stream",
     "text": [
      "8\n"
     ]
    }
   ],
   "source": [
    "g = Solution()\n",
    "print(g.climbStairs(5))"
   ]
  },
  {
   "cell_type": "markdown",
   "metadata": {},
   "source": [
    "# [105] Construct Binary Tree from Preorder and Inorder Traversal\n",
    "\n",
    "Given preorder and inorder traversal of a tree, construct the binary tree."
   ]
  },
  {
   "cell_type": "code",
   "execution_count": 10,
   "metadata": {},
   "outputs": [],
   "source": [
    "# Definition for a binary tree node.\n",
    "class TreeNode:\n",
    "    def __init__(self, x):\n",
    "        self.val = x\n",
    "        self.left = None\n",
    "        self.right = None\n",
    "\n",
    "class Solution():\n",
    "    def buildTree(self, preorder, inorder):\n",
    "        if inorder:\n",
    "            ind = inorder.index(preorder.pop(0))\n",
    "            root = TreeNode(inorder[ind])\n",
    "            root.left = self.buildTree(preorder, inorder[0:ind])\n",
    "            root.right = self.buildTree(preorder, inorder[ind+1:])\n",
    "            return root"
   ]
  },
  {
   "cell_type": "code",
   "execution_count": null,
   "metadata": {},
   "outputs": [],
   "source": [
    "preorder = [3,9,20,15,7]\n",
    "inorder = [9,3,15,20,7]\n",
    "g = Solution()\n",
    "print(g.buildTree(preorder, inorder))"
   ]
  },
  {
   "cell_type": "code",
   "execution_count": 17,
   "metadata": {},
   "outputs": [],
   "source": [
    "class TreeNode:\n",
    "    def __inin__(self, x):\n",
    "        self.val = x\n",
    "        self.left = None\n",
    "        self.right = None\n",
    "        \n",
    "class Solution():\n",
    "    def buildTree(self, preorder, inorder):\n",
    "        if inorder:\n",
    "            ind = inorder.index(preorder.pop(0))\n",
    "            root = TreeNode(inorder[ind])\n",
    "            \n",
    "            root.left = self.buildTree(preorder, inorder[0: ind])\n",
    "            root.right = self.buildTree(preorder, inorder[ind+1: ])\n",
    "            \n",
    "            return root"
   ]
  },
  {
   "cell_type": "markdown",
   "metadata": {},
   "source": [
    "# [106] Construct Binary Tree from Inorder and Postorder Traversal\n",
    "\n",
    "Given inorder and postorder traversal of a tree, construct the binary tree."
   ]
  },
  {
   "cell_type": "code",
   "execution_count": 18,
   "metadata": {},
   "outputs": [],
   "source": [
    "# Definition for a binary tree node.\n",
    "class TreeNode:\n",
    "    def __init__(self, x):\n",
    "        self.val = x\n",
    "        self.left = None\n",
    "        self.right = None\n",
    "\n",
    "class Solution:\n",
    "    def buildTree(self, inorder, postorder):\n",
    "        if not inorder or not postorder:\n",
    "            return None\n",
    "        \n",
    "        root = TreeNode(postorder.pop())\n",
    "        inorderIndex = inorder.index(root.val)\n",
    "\n",
    "        root.right = self.buildTree(inorder[inorderIndex+1:], postorder)\n",
    "        root.left = self.buildTree(inorder[:inorderIndex], postorder)\n",
    "\n",
    "        return root"
   ]
  },
  {
   "cell_type": "markdown",
   "metadata": {},
   "source": [
    "# [108] Convert Sorted Array to Binary Search Tree"
   ]
  },
  {
   "cell_type": "markdown",
   "metadata": {},
   "source": [
    "Given an array where elements are sorted in ascending order, convert it to a height balanced BST.\n",
    "\n",
    "For this problem, a height-balanced binary tree is defined as a binary tree in which the depth of the two subtrees of every node never differ by more than 1."
   ]
  },
  {
   "cell_type": "code",
   "execution_count": 20,
   "metadata": {},
   "outputs": [],
   "source": [
    "# Definition for a  binary tree node\n",
    "# class TreeNode:\n",
    "#     def __init__(self, x):\n",
    "#         self.val = x\n",
    "#         self.left = None\n",
    "#         self.right = None\n",
    "\n",
    "class Solution:\n",
    "    # @param num, a list of integers\n",
    "    # @return a tree node\n",
    "    # 12:37\n",
    "    def sortedArrayToBST(self, num):\n",
    "        if not num:\n",
    "            return None\n",
    "\n",
    "        mid = len(num) // 2\n",
    "\n",
    "        root = TreeNode(num[mid])\n",
    "        root.left = self.sortedArrayToBST(num[:mid])\n",
    "        root.right = self.sortedArrayToBST(num[mid+1:])\n",
    "\n",
    "        return root"
   ]
  },
  {
   "cell_type": "markdown",
   "metadata": {},
   "source": [
    "# [109] Convert Sorted List to Binary Search Tree"
   ]
  },
  {
   "cell_type": "markdown",
   "metadata": {},
   "source": [
    "Time Complexity: O(N)\n",
    "\n",
    "Space Complexity: O(\\log N)"
   ]
  },
  {
   "cell_type": "code",
   "execution_count": 21,
   "metadata": {},
   "outputs": [],
   "source": [
    "class Solution:\n",
    "    def findSize(self, head):\n",
    "        ptr = head\n",
    "        c = 0\n",
    "        while ptr:\n",
    "            ptr = ptr.next\n",
    "            c += 1\n",
    "        return c\n",
    "\n",
    "    def sortedListToBST(self, head):\n",
    "        \"\"\"\n",
    "        :type head: ListNode\n",
    "        :rtype: TreeNode\n",
    "        \"\"\"\n",
    "        # Get the size of the linked list first\n",
    "        size = self.findSize(head)\n",
    "\n",
    "        # Recursively form a BST out of linked list from l --> r\n",
    "        def convert(l, r):\n",
    "            nonlocal head\n",
    "\n",
    "            # Invalid case\n",
    "            if l > r:\n",
    "                return None\n",
    "\n",
    "            mid = (l + r) // 2\n",
    "\n",
    "            # First step of simulated inorder traversal. Recursively form\n",
    "            # the left half\n",
    "            left = convert(l, mid - 1)\n",
    "\n",
    "            # Once left half is traversed, process the current node\n",
    "            node = TreeNode(head.val)   \n",
    "            node.left = left\n",
    "\n",
    "            # Maintain the invariance mentioned in the algorithm\n",
    "            head = head.next\n",
    "\n",
    "            # Recurse on the right hand side and form BST out of them\n",
    "            node.right = convert(mid + 1, r)\n",
    "            return node\n",
    "        \n",
    "        return convert(0, size - 1) "
   ]
  },
  {
   "cell_type": "code",
   "execution_count": 23,
   "metadata": {},
   "outputs": [],
   "source": [
    "class Solution:\n",
    "    def findSize(self, head):\n",
    "        ptr = head\n",
    "        c = 0\n",
    "        while ptr:\n",
    "            ptr = ptr.next\n",
    "            c += 1\n",
    "        return c\n",
    "    \n",
    "    def sortedListToBST(self, head):\n",
    "        size = findSize(head)\n",
    "        def convert(l,r):\n",
    "            nonlocal head\n",
    "            if l>r:\n",
    "                return None\n",
    "            mid = (l+r)//2\n",
    "            left = convert(l, mid-1)\n",
    "            node = TreeNode(head.val)\n",
    "            node.left = left\n",
    "            head = head.next\n",
    "            node.right = convert(mid+1, r)\n",
    "            return node\n",
    "        return convert(0, size-1)"
   ]
  },
  {
   "cell_type": "markdown",
   "metadata": {},
   "source": [
    "# [110] Balanced Binary Tree"
   ]
  },
  {
   "cell_type": "markdown",
   "metadata": {},
   "source": [
    "Given a binary tree, determine if it is height-balanced.\n",
    "\n",
    "For this problem, a height-balanced binary tree is defined as:\n",
    "\n",
    "a binary tree in which the depth of the two subtrees of every node never differ by more than 1.\n"
   ]
  },
  {
   "cell_type": "code",
   "execution_count": 26,
   "metadata": {},
   "outputs": [],
   "source": [
    "# Definition for a binary tree node.\n",
    "class TreeNode:\n",
    "    def __init__(self, x):\n",
    "        self.val = x\n",
    "        self.left = None\n",
    "        self.right = None\n",
    "\n",
    "class Solution:\n",
    "    def isBalanced(self, root):\n",
    "        def check(root):\n",
    "            if root is None:\n",
    "                return 0\n",
    "            left  = check(root.left)\n",
    "            right = check(root.right)\n",
    "            if left == -1 or right == -1 or abs(left - right) > 1:\n",
    "                return -1\n",
    "            return 1 + max(left, right)\n",
    "            \n",
    "        return check(root) != -1"
   ]
  },
  {
   "cell_type": "code",
   "execution_count": 29,
   "metadata": {},
   "outputs": [],
   "source": [
    "def isBalanced(self, root):\n",
    "    def check(root):\n",
    "        if root is None:\n",
    "            return 0\n",
    "        left = check(root.left)\n",
    "        right = check(root.right)\n",
    "        if left == -1 or right == -1 or abs(left-right)>1:\n",
    "            return -1\n",
    "        return 1 + max(left, right)\n",
    "    return check(root) != -1"
   ]
  },
  {
   "cell_type": "code",
   "execution_count": null,
   "metadata": {},
   "outputs": [],
   "source": []
  }
 ],
 "metadata": {
  "kernelspec": {
   "display_name": "Python 3",
   "language": "python",
   "name": "python3"
  },
  "language_info": {
   "codemirror_mode": {
    "name": "ipython",
    "version": 3
   },
   "file_extension": ".py",
   "mimetype": "text/x-python",
   "name": "python",
   "nbconvert_exporter": "python",
   "pygments_lexer": "ipython3",
   "version": "3.7.3"
  }
 },
 "nbformat": 4,
 "nbformat_minor": 2
}
