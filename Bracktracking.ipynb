{
 "cells": [
  {
   "cell_type": "markdown",
   "metadata": {},
   "source": [
    "# [22] Generate Parentheses (Mediun)"
   ]
  },
  {
   "cell_type": "markdown",
   "metadata": {},
   "source": [
    "Instead of adding '(' or ')' every time as in Approach 1, let's only add them when we know it will remain a valid sequence. We can do this by keeping track of the number of opening and closing brackets we have placed so far.\n",
    "\n",
    "We can start an opening bracket if we still have one (of n) left to place. And we can start a closing bracket if it would not exceed the number of opening brackets.\n",
    " \n",
    "Each valid sequence has at most n steps during the backtracking procedure.\n",
    "\n",
    "using O(n) space to store the sequence"
   ]
  },
  {
   "cell_type": "code",
   "execution_count": null,
   "metadata": {},
   "outputs": [],
   "source": [
    "def generateParenthesis(n):\n",
    "    ans = []\n",
    "    def backtrack(S = '', left = 0, right = 0):\n",
    "        if len(S) == 2 * n:\n",
    "            ans.append(S)\n",
    "            return\n",
    "        if left < n:\n",
    "            backtrack(S+'(', left+1, right)\n",
    "        if right < left:\n",
    "            backtrack(S+')', left, right+1)\n",
    "    backtrack()\n",
    "    return ans "
   ]
  },
  {
   "cell_type": "code",
   "execution_count": 2,
   "metadata": {},
   "outputs": [
    {
     "data": {
      "text/plain": [
       "['((()))', '(()())', '(())()', '()(())', '()()()']"
      ]
     },
     "execution_count": 2,
     "metadata": {},
     "output_type": "execute_result"
    }
   ],
   "source": [
    "generateParenthesis(3)"
   ]
  },
  {
   "cell_type": "markdown",
   "metadata": {},
   "source": [
    "# [44] Wildcard Matching (Hard)"
   ]
  },
  {
   "cell_type": "markdown",
   "metadata": {},
   "source": [
    "dp[n] means the substring s[:n] if match the pattern i\n",
    "\n",
    "dp[0] means the empty string ‘’ or s[:0] which only match the pattern ‘*’\n",
    "\n",
    "use the reversed builtin because for every dp[n+1] we use the previous ‘dp’\n",
    "\n",
    "O(m*n) version code"
   ]
  },
  {
   "cell_type": "code",
   "execution_count": 12,
   "metadata": {},
   "outputs": [],
   "source": [
    "class Solution:\n",
    "    def isMatch(self, s, p):\n",
    "        length = len(s)\n",
    "        if len(p) - p.count('*') > length:\n",
    "            return False\n",
    "        dp = [True] + [False]*length\n",
    "        for i in p:\n",
    "            if i != '*':\n",
    "                for n in reversed(range(length)):\n",
    "                    dp[n+1] = dp[n] and (i == s[n] or i == '?')\n",
    "            else:\n",
    "                for n in range(1, length+1):\n",
    "                    dp[n] = dp[n-1] or dp[n]\n",
    "            dp[0] = dp[0] and i == '*'\n",
    "        return dp[-1]"
   ]
  },
  {
   "cell_type": "code",
   "execution_count": 13,
   "metadata": {},
   "outputs": [
    {
     "name": "stdout",
     "output_type": "stream",
     "text": [
      "True\n"
     ]
    }
   ],
   "source": [
    "s = \"adceb\"\n",
    "p = \"*a*b\"\n",
    "g = Solution()\n",
    "print(g.isMatch(s, p))"
   ]
  },
  {
   "cell_type": "markdown",
   "metadata": {},
   "source": [
    "# [46] Permutations (Medium)"
   ]
  },
  {
   "cell_type": "markdown",
   "metadata": {},
   "source": [
    "Given a collection of distinct integers, return all possible permutations."
   ]
  },
  {
   "cell_type": "code",
   "execution_count": 14,
   "metadata": {},
   "outputs": [],
   "source": [
    "class Solution:\n",
    "    def permute(self, nums):  \n",
    "        res = []\n",
    "        self.dfs(nums, [], res)\n",
    "        return res\n",
    "    \n",
    "    def dfs(self, nums, path, res):\n",
    "        if not nums:\n",
    "            res.append(path)\n",
    "            # return # backtracking\n",
    "        for i in range(len(nums)):\n",
    "            self.dfs(nums[:i]+nums[i+1:], path+[nums[i]], res)"
   ]
  },
  {
   "cell_type": "code",
   "execution_count": 16,
   "metadata": {},
   "outputs": [
    {
     "name": "stdout",
     "output_type": "stream",
     "text": [
      "[[1, 2, 3], [1, 3, 2], [2, 1, 3], [2, 3, 1], [3, 1, 2], [3, 2, 1]]\n"
     ]
    }
   ],
   "source": [
    "nums = [1,2,3]\n",
    "g = Solution()\n",
    "print(g.permute(nums))"
   ]
  },
  {
   "cell_type": "markdown",
   "metadata": {},
   "source": [
    "# [47] Permutations II  (Medium)"
   ]
  },
  {
   "cell_type": "markdown",
   "metadata": {},
   "source": [
    "Given a collection of numbers that might contain duplicates, return all possible unique permutations.\n",
    "\n",
    "Duplication happens when we insert the duplicated element before and after the same element, to eliminate duplicates, just insert only after the same element."
   ]
  },
  {
   "cell_type": "code",
   "execution_count": 17,
   "metadata": {},
   "outputs": [],
   "source": [
    "class Solution:\n",
    "    def permuteUnique(self, nums):\n",
    "        if not nums:\n",
    "            return []\n",
    "        nums.sort()\n",
    "        ret = [[]]\n",
    "        for n in nums:\n",
    "            new_ret = []\n",
    "            l = len(ret[-1])\n",
    "            for seq in ret:\n",
    "                for i in range(l, -1, -1):\n",
    "                    if i < l and seq[i] == n:\n",
    "                        break\n",
    "                    new_ret.append(seq[:i] + [n] + seq[i:])\n",
    "            ret = new_ret\n",
    "        return ret"
   ]
  },
  {
   "cell_type": "code",
   "execution_count": 18,
   "metadata": {},
   "outputs": [
    {
     "name": "stdout",
     "output_type": "stream",
     "text": [
      "[[1, 1, 2], [1, 2, 1], [2, 1, 1]]\n"
     ]
    }
   ],
   "source": [
    "s = [1,1,2]\n",
    "g = Solution()\n",
    "print(g.permuteUnique(s))"
   ]
  },
  {
   "cell_type": "markdown",
   "metadata": {},
   "source": [
    "方法2:\n",
    "这道题也是穷举全排列，只是集合中可能有重复的元素。分两步：1，对集合进行排序。2，进行剪枝，如果元素重复，直接跳过这一元素，决策树的这一枝被剪掉。"
   ]
  },
  {
   "cell_type": "code",
   "execution_count": 23,
   "metadata": {},
   "outputs": [],
   "source": [
    "class Solution:\n",
    "    def permuteUnique(self, nums):\n",
    "        length = len(nums)\n",
    "        if length == 0: \n",
    "            return []\n",
    "        if length == 1: \n",
    "            return [nums]\n",
    "        nums.sort()\n",
    "        res = []\n",
    "        previousNum = None\n",
    "        for i in range(length):\n",
    "            if nums[i] == previousNum: \n",
    "                continue\n",
    "            previousNum = nums[i]\n",
    "            for j in self.permuteUnique(nums[:i] + nums[i+1:]):\n",
    "                res.append([nums[i]] + j)\n",
    "        return res"
   ]
  },
  {
   "cell_type": "code",
   "execution_count": 24,
   "metadata": {},
   "outputs": [
    {
     "name": "stdout",
     "output_type": "stream",
     "text": [
      "[[1, 1, 2], [1, 2, 1], [2, 1, 1]]\n"
     ]
    }
   ],
   "source": [
    "s = [1,1,2]\n",
    "g = Solution()\n",
    "print(g.permuteUnique(s))"
   ]
  },
  {
   "cell_type": "code",
   "execution_count": null,
   "metadata": {},
   "outputs": [],
   "source": []
  }
 ],
 "metadata": {
  "kernelspec": {
   "display_name": "Python 3",
   "language": "python",
   "name": "python3"
  },
  "language_info": {
   "codemirror_mode": {
    "name": "ipython",
    "version": 3
   },
   "file_extension": ".py",
   "mimetype": "text/x-python",
   "name": "python",
   "nbconvert_exporter": "python",
   "pygments_lexer": "ipython3",
   "version": "3.7.3"
  }
 },
 "nbformat": 4,
 "nbformat_minor": 2
}
