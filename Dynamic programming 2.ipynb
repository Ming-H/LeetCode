{
 "cells": [
  {
   "cell_type": "markdown",
   "metadata": {},
   "source": [
    "# [70] Climbing Stairs"
   ]
  },
  {
   "cell_type": "code",
   "execution_count": 2,
   "metadata": {},
   "outputs": [],
   "source": [
    "class Solution:\n",
    "    def climbStairs(self, n: int) -> int:\n",
    "        if n == 1:\n",
    "            return 1\n",
    "        a, b = 1, 2\n",
    "        for i in range(2, n):\n",
    "            a,b = b,a+b\n",
    "        return b"
   ]
  },
  {
   "cell_type": "code",
   "execution_count": null,
   "metadata": {},
   "outputs": [],
   "source": []
  },
  {
   "cell_type": "code",
   "execution_count": 4,
   "metadata": {},
   "outputs": [],
   "source": [
    "class Solution:\n",
    "    def findMedianSortedArrays(self, A, B):\n",
    "        l = len(A) + len(B)\n",
    "        if l % 2 == 1:\n",
    "            return self.kth(A, B, l // 2)\n",
    "        else:\n",
    "            return (self.kth(A, B, l // 2) + self.kth(A, B, l // 2 - 1)) / 2.   \n",
    "    \n",
    "    def kth(self, a, b, k):\n",
    "        if not a:\n",
    "            return b[k]\n",
    "        if not b:\n",
    "            return a[k]\n",
    "        \n",
    "        ia, ib = len(a) // 2 , len(b) // 2\n",
    "        ma, mb = a[ia], b[ib]\n",
    "        \n",
    "        # when k is bigger than the sum of a and b's median indices \n",
    "        if ia + ib < k:\n",
    "            # if a's median is bigger than b's, b's first half doesn't include k\n",
    "            if ma > mb:\n",
    "                return self.kth(a, b[ib + 1:], k - ib - 1)\n",
    "            else:\n",
    "                return self.kth(a[ia + 1:], b, k - ia - 1)\n",
    "        # when k is smaller than the sum of a and b's indices\n",
    "        else:\n",
    "            # if a's median is bigger than b's, a's second half doesn't include k\n",
    "            if ma > mb:\n",
    "                return self.kth(a[:ia], b, k)\n",
    "            else:\n",
    "                return self.kth(a, b[:ib], k)"
   ]
  },
  {
   "cell_type": "code",
   "execution_count": 5,
   "metadata": {},
   "outputs": [
    {
     "name": "stdout",
     "output_type": "stream",
     "text": [
      "3.5\n"
     ]
    }
   ],
   "source": [
    "a = [1,3,5]\n",
    "b = [4]\n",
    "g = Solution()\n",
    "print(g.findMedianSortedArrays(a,b))"
   ]
  },
  {
   "cell_type": "code",
   "execution_count": 18,
   "metadata": {},
   "outputs": [],
   "source": [
    "def fourSum(self, nums, target):\n",
    "    nums.sort()\n",
    "    results = []\n",
    "    self.findNsum(nums, target, 4, [], results)\n",
    "    return results\n",
    "\n",
    "def findNsum(self, nums, target, N, result, results):\n",
    "    if len(nums) < N or N < 2: return\n",
    "\n",
    "    # solve 2-sum\n",
    "    if N == 2:\n",
    "        l,r = 0,len(nums)-1\n",
    "        while l < r:\n",
    "            if nums[l] + nums[r] == target:\n",
    "                results.append(result + [nums[l], nums[r]])\n",
    "                l += 1\n",
    "                r -= 1\n",
    "                while l < r and nums[l] == nums[l - 1]:\n",
    "                    l += 1\n",
    "                while r > l and nums[r] == nums[r + 1]:\n",
    "                    r -= 1\n",
    "            elif nums[l] + nums[r] < target:\n",
    "                l += 1\n",
    "            else:\n",
    "                r -= 1\n",
    "    else:\n",
    "        for i in range(0, len(nums)-N+1):   # careful about range\n",
    "            if target < nums[i]*N or target > nums[-1]*N:  # take advantages of sorted list\n",
    "                break\n",
    "            if i == 0 or i > 0 and nums[i-1] != nums[i]:  # recursively reduce N\n",
    "                self.findNsum(nums[i+1:], target-nums[i], N-1, result+[nums[i]], results)\n",
    "    return"
   ]
  },
  {
   "cell_type": "code",
   "execution_count": null,
   "metadata": {},
   "outputs": [],
   "source": []
  }
 ],
 "metadata": {
  "kernelspec": {
   "display_name": "Python 3",
   "language": "python",
   "name": "python3"
  },
  "language_info": {
   "codemirror_mode": {
    "name": "ipython",
    "version": 3
   },
   "file_extension": ".py",
   "mimetype": "text/x-python",
   "name": "python",
   "nbconvert_exporter": "python",
   "pygments_lexer": "ipython3",
   "version": "3.7.3"
  }
 },
 "nbformat": 4,
 "nbformat_minor": 2
}
