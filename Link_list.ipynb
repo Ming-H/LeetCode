{
 "cells": [
  {
   "cell_type": "markdown",
   "metadata": {},
   "source": [
    "# 23 Merge k Sorted Lists    \n",
    "Merge with Divide And Conquer\n",
    "\n",
    "Intuition & Algorithm\n",
    "\n",
    "This approach walks alongside the one above but is improved a lot. We don't need to traverse most nodes many times repeatedly\n",
    "\n",
    "Pair up \\text{k}k lists and merge each pair.\n",
    "\n",
    "After the first pairing, \\text{k}k lists are merged into k/2k/2 lists with average 2N/k2N/k length, then k/4k/4, k/8k/8 and so on.\n",
    "\n",
    "Repeat this procedure until we get the final sorted linked list.\n",
    "\n",
    "Thus, we'll traverse almost NN nodes per pairing and merging, and repeat this procedure about \\log_{2}{k}log \n",
    "2\n",
    "​\t\n",
    " k times."
   ]
  },
  {
   "cell_type": "code",
   "execution_count": 1,
   "metadata": {},
   "outputs": [],
   "source": [
    "class Solution(object):\n",
    "    def mergeKList(self, lists):\n",
    "        amount = len(lists)\n",
    "        interval = 1\n",
    "        while interval < amount:\n",
    "            for i in range(0, amount-interval, interval*2):\n",
    "                list[i] = self.merge2List(list[i], list[i+interval])\n",
    "            interval *= 2\n",
    "        return list[0] if amount > 0 else lists\n",
    "    \n",
    "    def merge2List(self, l1, l2):\n",
    "        head = point = ListNode(0)\n",
    "        while l1 and l2:\n",
    "            if l1.val <= l2.val:\n",
    "                point.next = l1\n",
    "                l1 = l1.next\n",
    "            else:\n",
    "                point.next = l2\n",
    "                l2 = l2.next\n",
    "            point = point.next\n",
    "        if not l1:\n",
    "            point.next = l2\n",
    "        else:\n",
    "            point.next = l1\n",
    "        return head.next"
   ]
  },
  {
   "cell_type": "markdown",
   "metadata": {},
   "source": [
    "# 86. Partition List\n",
    "Approach 1: Two Pointer Approach\n",
    "Intuition\n",
    "\n",
    "We can take two pointers before and after to keep track of the two linked lists as described above. These two pointers could be used two create two separate lists and then these lists could be combined to form the desired reformed list.\n",
    "\n"
   ]
  },
  {
   "cell_type": "code",
   "execution_count": 3,
   "metadata": {},
   "outputs": [],
   "source": [
    "class Solution(object):\n",
    "    def partition(self, head, x):\n",
    "        \"\"\"\n",
    "        :type head: ListNode\n",
    "        :type x: int\n",
    "        :rtype: ListNode\n",
    "        \"\"\"\n",
    "\n",
    "        # before and after are the two pointers used to create two list\n",
    "        # before_head and after_head are used to save the heads of the two lists.\n",
    "        # All of these are initialized with the dummy nodes created.\n",
    "        before = before_head = ListNode(0)\n",
    "        after = after_head = ListNode(0)\n",
    "\n",
    "        while head:\n",
    "            # If the original list node is lesser than the given x,\n",
    "            # assign it to the before list.\n",
    "            if head.val < x:\n",
    "                before.next = head\n",
    "                before = before.next\n",
    "            else:\n",
    "                # If the original list node is greater or equal to the given x,\n",
    "                # assign it to the after list.\n",
    "                after.next = head\n",
    "                after = after.next\n",
    "\n",
    "            # move ahead in the original list\n",
    "            head = head.next\n",
    "\n",
    "        # Last node of \"after\" list would also be ending node of the reformed list\n",
    "        after.next = None\n",
    "        # Once all the nodes are correctly assigned to the two lists,\n",
    "        # combine them to form a single list which would be returned.\n",
    "        before.next = after_head.next\n",
    "\n",
    "        return before_head.next"
   ]
  },
  {
   "cell_type": "code",
   "execution_count": null,
   "metadata": {},
   "outputs": [],
   "source": []
  },
  {
   "cell_type": "code",
   "execution_count": null,
   "metadata": {},
   "outputs": [],
   "source": []
  }
 ],
 "metadata": {
  "kernelspec": {
   "display_name": "Python 3",
   "language": "python",
   "name": "python3"
  },
  "language_info": {
   "codemirror_mode": {
    "name": "ipython",
    "version": 3
   },
   "file_extension": ".py",
   "mimetype": "text/x-python",
   "name": "python",
   "nbconvert_exporter": "python",
   "pygments_lexer": "ipython3",
   "version": "3.7.3"
  }
 },
 "nbformat": 4,
 "nbformat_minor": 2
}
