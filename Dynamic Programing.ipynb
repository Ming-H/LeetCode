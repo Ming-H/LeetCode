{
 "cells": [
  {
   "cell_type": "markdown",
   "metadata": {},
   "source": [
    "# [5] Longest Palindromic Substring"
   ]
  },
  {
   "cell_type": "code",
   "execution_count": 3,
   "metadata": {},
   "outputs": [],
   "source": [
    "class Solution:\n",
    "    def longestPalindrome(self, s: str) -> str:\n",
    "        maxl = 0\n",
    "        start = 0\n",
    "        for i in range(len(s)):\n",
    "            if i - maxl >= 1 and s[i-maxl-1: i+1] == s[i-maxl-1: i+1][::-1]:\n",
    "                start = i - maxl - 1\n",
    "                maxl += 2\n",
    "                continue\n",
    "            if i - maxl >= 0 and s[i-maxl: i+1] == s[i-maxl: i+1][::-1]:\n",
    "                start = i - maxl\n",
    "                maxl += 1\n",
    "        return s[start: start + maxl]   "
   ]
  },
  {
   "cell_type": "markdown",
   "metadata": {},
   "source": [
    "Time complexity : O(n^2) \n",
    "    \n",
    "Space complexity : O(n^2) "
   ]
  },
  {
   "cell_type": "code",
   "execution_count": 2,
   "metadata": {},
   "outputs": [
    {
     "name": "stdout",
     "output_type": "stream",
     "text": [
      "babab\n"
     ]
    }
   ],
   "source": [
    "g = Solution()\n",
    "s = 'abcbdbababa'\n",
    "print(g.longestPalindrome(s))"
   ]
  },
  {
   "cell_type": "code",
   "execution_count": 5,
   "metadata": {},
   "outputs": [],
   "source": [
    "def longestPalindrome(s):\n",
    "    maxl = 0\n",
    "    start = 0\n",
    "    for i in range(len(s)):\n",
    "        if i-maxl>=1 and s[i-maxl-1: i+1] == s[i-maxl-1: i+1][::-1]:\n",
    "            start = i-maxl-1\n",
    "            maxl += 2\n",
    "        if i-maxl>=1 and s[i-maxl: i+1] == s[i-maxl:i+1][::-1]:\n",
    "            start = i-maxl\n",
    "            maxl += 1\n",
    "    return s[start: start+maxl]"
   ]
  },
  {
   "cell_type": "markdown",
   "metadata": {},
   "source": [
    "# [53] Maximum Subarray"
   ]
  },
  {
   "cell_type": "code",
   "execution_count": 7,
   "metadata": {},
   "outputs": [],
   "source": [
    "class Solution:\n",
    "    def maxSubArray(self, nums):\n",
    "        if not nums:\n",
    "            return 0\n",
    "\n",
    "        curSum = maxSum = nums[0]\n",
    "        for num in nums[1:]:\n",
    "            curSum = max(num, curSum + num)\n",
    "            maxSum = max(maxSum, curSum)\n",
    "            \n",
    "        return maxSum"
   ]
  },
  {
   "cell_type": "code",
   "execution_count": 8,
   "metadata": {},
   "outputs": [
    {
     "name": "stdout",
     "output_type": "stream",
     "text": [
      "9\n"
     ]
    }
   ],
   "source": [
    "g = Solution()\n",
    "L = [-1,2,-3,2,-3,9]\n",
    "print(g.maxSubArray(L))"
   ]
  },
  {
   "cell_type": "code",
   "execution_count": 9,
   "metadata": {},
   "outputs": [],
   "source": [
    "def maxsub(nums):\n",
    "    if not nums:\n",
    "        return 0\n",
    "    \n",
    "    curSum = maxSum = nums[0]\n",
    "    for item in nums[1:]:\n",
    "        curSum = max(item, curSum+item)\n",
    "        maxSum = max(curSum, maxSum)\n",
    "    \n",
    "    return maxSum"
   ]
  },
  {
   "cell_type": "markdown",
   "metadata": {},
   "source": [
    "# [64] Minimum Path Sum"
   ]
  },
  {
   "cell_type": "code",
   "execution_count": 14,
   "metadata": {},
   "outputs": [],
   "source": [
    "# [64] Minimum Path Sum\n",
    "#\n",
    "class Solution:\n",
    "    def minPathSum(self, grid):\n",
    "        m = len(grid)\n",
    "        n = len(grid[0])\n",
    "        print(grid)\n",
    "        for i in range(1, n):\n",
    "            grid[0][i] += grid[0][i-1]\n",
    "        print(grid)\n",
    "        for i in range(1, m):\n",
    "            grid[i][0] += grid[i-1][0]\n",
    "        print(grid)\n",
    "        for i in range(1, m):\n",
    "            for j in range(1, n):\n",
    "                grid[i][j] += min(grid[i-1][j], grid[i][j-1])\n",
    "        print(grid)\n",
    "        return grid[-1][-1]"
   ]
  },
  {
   "cell_type": "code",
   "execution_count": 15,
   "metadata": {},
   "outputs": [
    {
     "name": "stdout",
     "output_type": "stream",
     "text": [
      "[[1, 3, 1], [1, 5, 1], [4, 2, 1]]\n",
      "[[1, 4, 5], [1, 5, 1], [4, 2, 1]]\n",
      "[[1, 4, 5], [2, 5, 1], [6, 2, 1]]\n",
      "[[1, 4, 5], [2, 7, 6], [6, 8, 7]]\n",
      "7\n"
     ]
    }
   ],
   "source": [
    "grid = [[1,3,1],\n",
    "      [1,5,1],\n",
    "      [4,2,1]]\n",
    "g = Solution()\n",
    "print(g.minPathSum(grid))"
   ]
  },
  {
   "cell_type": "code",
   "execution_count": 13,
   "metadata": {},
   "outputs": [],
   "source": [
    "def minPathSum(self, grid):\n",
    "    m = len(grid)\n",
    "    n = len(grid[0])\n",
    "    for i in range(1, n):\n",
    "        grid[0][i] += grid[0][i-1]\n",
    "    for i in range(1, m):\n",
    "        grid[i][0] += grid[i-1][0]\n",
    "        \n",
    "    for i in range(1,m):\n",
    "        for j in range(1,n):\n",
    "            grid[i][j] += min(grid[i-1][j], grid[i][j-1])\n",
    "    return grid[-1][-1]"
   ]
  },
  {
   "cell_type": "code",
   "execution_count": null,
   "metadata": {},
   "outputs": [],
   "source": []
  },
  {
   "cell_type": "code",
   "execution_count": null,
   "metadata": {},
   "outputs": [],
   "source": []
  }
 ],
 "metadata": {
  "kernelspec": {
   "display_name": "Python 3",
   "language": "python",
   "name": "python3"
  },
  "language_info": {
   "codemirror_mode": {
    "name": "ipython",
    "version": 3
   },
   "file_extension": ".py",
   "mimetype": "text/x-python",
   "name": "python",
   "nbconvert_exporter": "python",
   "pygments_lexer": "ipython3",
   "version": "3.7.3"
  }
 },
 "nbformat": 4,
 "nbformat_minor": 2
}
